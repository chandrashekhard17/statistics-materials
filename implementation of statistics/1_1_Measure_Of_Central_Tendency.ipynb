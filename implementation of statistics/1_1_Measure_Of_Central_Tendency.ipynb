{
  "cells": [
    {
      "cell_type": "markdown",
      "id": "64a10c56-8c07-4e02-aa7d-ed14fb90336d",
      "metadata": {
        "id": "64a10c56-8c07-4e02-aa7d-ed14fb90336d"
      },
      "source": [
        "## Measure Of Central Tendency"
      ]
    },
    {
      "cell_type": "code",
      "execution_count": null,
      "id": "f136bf0c-845c-4797-b3aa-2bdf57b6e57a",
      "metadata": {
        "id": "f136bf0c-845c-4797-b3aa-2bdf57b6e57a"
      },
      "outputs": [],
      "source": [
        "## Mean (Average)\n",
        "age=[12,13,14,21,24]"
      ]
    },
    {
      "cell_type": "code",
      "execution_count": null,
      "id": "34bc5fcb-6407-4799-8e82-c5eb92bc2c2d",
      "metadata": {
        "id": "34bc5fcb-6407-4799-8e82-c5eb92bc2c2d",
        "outputId": "70d91e7f-39dd-43f3-9840-c7a5a0dffe7f"
      },
      "outputs": [
        {
          "data": {
            "text/plain": [
              "16.8"
            ]
          },
          "execution_count": 2,
          "metadata": {},
          "output_type": "execute_result"
        }
      ],
      "source": [
        "(12+13+14+21+24)/5"
      ]
    },
    {
      "cell_type": "code",
      "execution_count": null,
      "id": "507bc408-7dc6-4090-9f35-9887c4abae46",
      "metadata": {
        "id": "507bc408-7dc6-4090-9f35-9887c4abae46",
        "outputId": "10fce74a-16aa-4dff-8540-d548bb0979f8"
      },
      "outputs": [
        {
          "data": {
            "text/plain": [
              "16.8"
            ]
          },
          "execution_count": 3,
          "metadata": {},
          "output_type": "execute_result"
        }
      ],
      "source": [
        "import numpy as np\n",
        "np.mean(age)"
      ]
    },
    {
      "cell_type": "code",
      "execution_count": null,
      "id": "018445da-5f4f-4cf5-b5f5-d64a787df92f",
      "metadata": {
        "id": "018445da-5f4f-4cf5-b5f5-d64a787df92f"
      },
      "outputs": [],
      "source": [
        "weights=[45,34,55,76,45,35,89,98,75]"
      ]
    },
    {
      "cell_type": "code",
      "execution_count": null,
      "id": "37a8c294-30bb-4024-8c5a-ee466dd07c23",
      "metadata": {
        "id": "37a8c294-30bb-4024-8c5a-ee466dd07c23",
        "outputId": "828ebb2f-a2af-46e9-ec99-86009acb35a0"
      },
      "outputs": [
        {
          "data": {
            "text/plain": [
              "61.333333333333336"
            ]
          },
          "execution_count": 5,
          "metadata": {},
          "output_type": "execute_result"
        }
      ],
      "source": [
        "np.mean(weights)"
      ]
    },
    {
      "cell_type": "code",
      "execution_count": null,
      "id": "d5a3254f-ad19-4c32-aaef-a9b5f9dcf7dc",
      "metadata": {
        "id": "d5a3254f-ad19-4c32-aaef-a9b5f9dcf7dc"
      },
      "outputs": [],
      "source": [
        "weights=[45,34,55,76,45,35,89,98,75,1000]"
      ]
    },
    {
      "cell_type": "code",
      "execution_count": null,
      "id": "786c635c-2f37-44ea-9496-3efe22d159b8",
      "metadata": {
        "id": "786c635c-2f37-44ea-9496-3efe22d159b8",
        "outputId": "b964ed5e-b0cf-4391-fb3b-877c77929bff"
      },
      "outputs": [
        {
          "data": {
            "text/plain": [
              "155.2"
            ]
          },
          "execution_count": 7,
          "metadata": {},
          "output_type": "execute_result"
        }
      ],
      "source": [
        "np.mean(weights)"
      ]
    },
    {
      "cell_type": "code",
      "execution_count": null,
      "id": "13b10268-491d-4e2a-a4cb-b8c588ae9ece",
      "metadata": {
        "id": "13b10268-491d-4e2a-a4cb-b8c588ae9ece"
      },
      "outputs": [],
      "source": [
        "## Median"
      ]
    },
    {
      "cell_type": "code",
      "execution_count": null,
      "id": "efcec086-914c-458f-878a-37426c41c650",
      "metadata": {
        "id": "efcec086-914c-458f-878a-37426c41c650",
        "outputId": "0dd32eb2-a49b-48c7-9ea9-b8291937e58a"
      },
      "outputs": [
        {
          "data": {
            "text/plain": [
              "65.0"
            ]
          },
          "execution_count": 9,
          "metadata": {},
          "output_type": "execute_result"
        }
      ],
      "source": [
        "np.median(weights)"
      ]
    },
    {
      "cell_type": "code",
      "execution_count": null,
      "id": "cfa9e59f-fb81-4b14-b769-f467d1e183d7",
      "metadata": {
        "id": "cfa9e59f-fb81-4b14-b769-f467d1e183d7"
      },
      "outputs": [],
      "source": [
        "## mode"
      ]
    },
    {
      "cell_type": "code",
      "execution_count": null,
      "id": "5611411c-6e38-48ed-8799-05c9777197ca",
      "metadata": {
        "id": "5611411c-6e38-48ed-8799-05c9777197ca"
      },
      "outputs": [],
      "source": [
        "from scipy import stats"
      ]
    },
    {
      "cell_type": "code",
      "execution_count": null,
      "id": "6327a799-b3dc-4044-a897-a4d7b89e59b8",
      "metadata": {
        "id": "6327a799-b3dc-4044-a897-a4d7b89e59b8",
        "outputId": "ebb10b73-db38-4347-fb68-f24adbc0edd0"
      },
      "outputs": [
        {
          "name": "stderr",
          "output_type": "stream",
          "text": [
            "/tmp/ipykernel_128/4197893964.py:1: FutureWarning: Unlike other reduction functions (e.g. `skew`, `kurtosis`), the default behavior of `mode` typically preserves the axis it acts along. In SciPy 1.11.0, this behavior will change: the default value of `keepdims` will become False, the `axis` over which the statistic is taken will be eliminated, and the value None will no longer be accepted. Set `keepdims` to True or False to avoid this warning.\n",
            "  stats.mode(weights)\n"
          ]
        },
        {
          "data": {
            "text/plain": [
              "ModeResult(mode=array([45]), count=array([2]))"
            ]
          },
          "execution_count": 12,
          "metadata": {},
          "output_type": "execute_result"
        }
      ],
      "source": [
        "stats.mode(weights)"
      ]
    },
    {
      "cell_type": "code",
      "execution_count": null,
      "id": "2fb136ce-b2a0-45fc-aa6f-9d729546a4a6",
      "metadata": {
        "id": "2fb136ce-b2a0-45fc-aa6f-9d729546a4a6"
      },
      "outputs": [],
      "source": []
    }
  ],
  "metadata": {
    "kernelspec": {
      "display_name": "Python 3 (ipykernel)",
      "language": "python",
      "name": "python3"
    },
    "language_info": {
      "codemirror_mode": {
        "name": "ipython",
        "version": 3
      },
      "file_extension": ".py",
      "mimetype": "text/x-python",
      "name": "python",
      "nbconvert_exporter": "python",
      "pygments_lexer": "ipython3",
      "version": "3.10.8"
    },
    "colab": {
      "provenance": []
    }
  },
  "nbformat": 4,
  "nbformat_minor": 5
}