{
 "cells": [
  {
   "cell_type": "markdown",
   "id": "d24b324f",
   "metadata": {},
   "source": [
    "Measure of central tendancy"
   ]
  },
  {
   "cell_type": "code",
   "execution_count": 1,
   "id": "3bbb2631",
   "metadata": {},
   "outputs": [],
   "source": [
    "#mean "
   ]
  },
  {
   "cell_type": "code",
   "execution_count": 2,
   "id": "931ef53f",
   "metadata": {},
   "outputs": [],
   "source": [
    "age=[12,13,14,21,24]"
   ]
  },
  {
   "cell_type": "code",
   "execution_count": 6,
   "id": "7c5e63b0",
   "metadata": {},
   "outputs": [
    {
     "data": {
      "text/plain": [
       "16.8"
      ]
     },
     "execution_count": 6,
     "metadata": {},
     "output_type": "execute_result"
    }
   ],
   "source": [
    "(12+13+14+21+24)/5"
   ]
  },
  {
   "cell_type": "code",
   "execution_count": 7,
   "id": "4b276b09",
   "metadata": {},
   "outputs": [],
   "source": [
    "import numpy as np"
   ]
  },
  {
   "cell_type": "code",
   "execution_count": 8,
   "id": "ffbffd83",
   "metadata": {},
   "outputs": [
    {
     "data": {
      "text/plain": [
       "16.8"
      ]
     },
     "execution_count": 8,
     "metadata": {},
     "output_type": "execute_result"
    }
   ],
   "source": [
    "np.mean(age)"
   ]
  },
  {
   "cell_type": "code",
   "execution_count": 9,
   "id": "7d95da47",
   "metadata": {},
   "outputs": [],
   "source": [
    "weight=[54,34,37,32,57,79,50,45,80]"
   ]
  },
  {
   "cell_type": "code",
   "execution_count": 10,
   "id": "4f5aa9d5",
   "metadata": {},
   "outputs": [
    {
     "data": {
      "text/plain": [
       "52.0"
      ]
     },
     "execution_count": 10,
     "metadata": {},
     "output_type": "execute_result"
    }
   ],
   "source": [
    "np.mean(weight)"
   ]
  },
  {
   "cell_type": "code",
   "execution_count": 11,
   "id": "1d79df28",
   "metadata": {},
   "outputs": [
    {
     "data": {
      "text/plain": [
       "50.0"
      ]
     },
     "execution_count": 11,
     "metadata": {},
     "output_type": "execute_result"
    }
   ],
   "source": [
    "np.median(weight)"
   ]
  },
  {
   "cell_type": "code",
   "execution_count": 12,
   "id": "0763a344",
   "metadata": {},
   "outputs": [],
   "source": [
    "weight=[54,34,37,32,57,79,50,45,80,10000]"
   ]
  },
  {
   "cell_type": "code",
   "execution_count": 13,
   "id": "92282a33",
   "metadata": {},
   "outputs": [],
   "source": [
    "#median"
   ]
  },
  {
   "cell_type": "code",
   "execution_count": 14,
   "id": "98594022",
   "metadata": {},
   "outputs": [
    {
     "data": {
      "text/plain": [
       "52.0"
      ]
     },
     "execution_count": 14,
     "metadata": {},
     "output_type": "execute_result"
    }
   ],
   "source": [
    "np.median(weight)"
   ]
  },
  {
   "cell_type": "code",
   "execution_count": 15,
   "id": "4c0eef02",
   "metadata": {},
   "outputs": [
    {
     "data": {
      "text/plain": [
       "1046.8"
      ]
     },
     "execution_count": 15,
     "metadata": {},
     "output_type": "execute_result"
    }
   ],
   "source": [
    "np.mean(weight)"
   ]
  },
  {
   "cell_type": "code",
   "execution_count": 16,
   "id": "2c1a142c",
   "metadata": {},
   "outputs": [],
   "source": [
    "#mode"
   ]
  },
  {
   "cell_type": "code",
   "execution_count": 17,
   "id": "ab4c04d6",
   "metadata": {},
   "outputs": [],
   "source": [
    "from scipy import stats"
   ]
  },
  {
   "cell_type": "code",
   "execution_count": 21,
   "id": "db1f26d4",
   "metadata": {},
   "outputs": [],
   "source": [
    "weights=[32,34,32,45,6,6,45,66,78,54,32]"
   ]
  },
  {
   "cell_type": "code",
   "execution_count": 22,
   "id": "38155b75",
   "metadata": {},
   "outputs": [
    {
     "name": "stderr",
     "output_type": "stream",
     "text": [
      "C:\\Users\\chand\\AppData\\Local\\Temp\\ipykernel_872\\4197893964.py:1: FutureWarning: Unlike other reduction functions (e.g. `skew`, `kurtosis`), the default behavior of `mode` typically preserves the axis it acts along. In SciPy 1.11.0, this behavior will change: the default value of `keepdims` will become False, the `axis` over which the statistic is taken will be eliminated, and the value None will no longer be accepted. Set `keepdims` to True or False to avoid this warning.\n",
      "  stats.mode(weights)\n"
     ]
    },
    {
     "data": {
      "text/plain": [
       "ModeResult(mode=array([32]), count=array([3]))"
      ]
     },
     "execution_count": 22,
     "metadata": {},
     "output_type": "execute_result"
    }
   ],
   "source": [
    "stats.mode(weights)"
   ]
  },
  {
   "cell_type": "code",
   "execution_count": null,
   "id": "e0c7a3d0",
   "metadata": {},
   "outputs": [],
   "source": []
  }
 ],
 "metadata": {
  "kernelspec": {
   "display_name": "Python 3 (ipykernel)",
   "language": "python",
   "name": "python3"
  },
  "language_info": {
   "codemirror_mode": {
    "name": "ipython",
    "version": 3
   },
   "file_extension": ".py",
   "mimetype": "text/x-python",
   "name": "python",
   "nbconvert_exporter": "python",
   "pygments_lexer": "ipython3",
   "version": "3.10.9"
  }
 },
 "nbformat": 4,
 "nbformat_minor": 5
}
