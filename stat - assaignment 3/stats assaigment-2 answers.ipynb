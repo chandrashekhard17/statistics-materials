{
 "cells": [
  {
   "cell_type": "code",
   "execution_count": 1,
   "id": "2690e4e8",
   "metadata": {},
   "outputs": [
    {
     "data": {
      "text/plain": [
       "'The Probability Density Function (PDF) is a fundamental concept in probability theory and statistics, particularly for continuous random variables. It describes the likelihood of a random variable taking on a specific value within a continuous range.'"
      ]
     },
     "execution_count": 1,
     "metadata": {},
     "output_type": "execute_result"
    }
   ],
   "source": [
    "#1...\n",
    "\"The Probability Density Function (PDF) is a fundamental concept in probability theory and statistics, particularly for continuous random variables. It describes the likelihood of a random variable taking on a specific value within a continuous range.\""
   ]
  },
  {
   "cell_type": "code",
   "execution_count": 2,
   "id": "38fa02af",
   "metadata": {},
   "outputs": [
    {
     "data": {
      "text/plain": [
       "'* normal pr gaussian distribution\\n   * bernoullis disturbution\\n   * uniform distribution\\n   * log normal distribution\\n   * poisson distribution\\n   * power law distribution\\n   * binomial distribution'"
      ]
     },
     "execution_count": 2,
     "metadata": {},
     "output_type": "execute_result"
    }
   ],
   "source": [
    "#2...\n",
    "\"\"\"* normal pr gaussian distribution\n",
    "   * bernoullis disturbution\n",
    "   * uniform distribution\n",
    "   * log normal distribution\n",
    "   * poisson distribution\n",
    "   * power law distribution\n",
    "   * binomial distribution\"\"\""
   ]
  },
  {
   "cell_type": "code",
   "execution_count": 3,
   "id": "f715e4b4",
   "metadata": {},
   "outputs": [
    {
     "name": "stdout",
     "output_type": "stream",
     "text": [
      "The PDF value at x = 1 is 0.2420\n"
     ]
    }
   ],
   "source": [
    "#3...\n",
    "import math\n",
    "\n",
    "def normal_pdf(x, mean, std_dev):\n",
    "    \"\"\"Calculate the PDF of a normal distribution at a given point.\n",
    "\n",
    "    Args:\n",
    "        x (float): The value at which to evaluate the PDF.\n",
    "        mean (float): The mean (μ) of the normal distribution.\n",
    "        std_dev (float): The standard deviation (σ) of the normal distribution.\n",
    "\n",
    "    Returns:\n",
    "        float: The probability density at point x.\n",
    "    \"\"\"\n",
    "    # Calculate the exponent part of the PDF\n",
    "    exponent = -((x - mean) ** 2) / (2 * std_dev ** 2)\n",
    "    \n",
    "    # Calculate the full PDF\n",
    "    pdf = (1 / (std_dev * math.sqrt(2 * math.pi))) * math.exp(exponent)\n",
    "    \n",
    "    return pdf\n",
    "\n",
    "# Example usage:\n",
    "mean = 0  # Mean (μ)\n",
    "std_dev = 1  # Standard Deviation (σ)\n",
    "x = 1  # Point at which to evaluate the PDF\n",
    "\n",
    "pdf_value = normal_pdf(x, mean, std_dev)\n",
    "print(f\"The PDF value at x = {x} is {pdf_value:.4f}\")\n"
   ]
  },
  {
   "cell_type": "code",
   "execution_count": 4,
   "id": "40fcc972",
   "metadata": {},
   "outputs": [
    {
     "data": {
      "text/plain": [
       "'1.fixed number of outcomes \\n   2.discrete random variable \\n   3.independence\\n   4.constant probability of success'"
      ]
     },
     "execution_count": 4,
     "metadata": {},
     "output_type": "execute_result"
    }
   ],
   "source": [
    "#4...\n",
    "\"\"\"1.fixed number of outcomes \n",
    "   2.discrete random variable \n",
    "   3.independence\n",
    "   4.constant probability of success\"\"\""
   ]
  },
  {
   "cell_type": "code",
   "execution_count": 5,
   "id": "336b9ad0",
   "metadata": {},
   "outputs": [
    {
     "data": {
      "image/png": "[encoded data removed]",
      "text/plain": [
       "<Figure size 1000x600 with 1 Axes>"
      ]
     },
     "metadata": {},
     "output_type": "display_data"
    }
   ],
   "source": [
    "#5...\n",
    "import numpy as np\n",
    "import matplotlib.pyplot as plt\n",
    "\n",
    "# Parameters for the binomial distribution\n",
    "n = 10  # Number of trials\n",
    "p = 0.4  # Probability of success\n",
    "sample_size = 1000  # Sample size\n",
    "\n",
    "# Generate a random sample of size 1000 from a binomial distribution\n",
    "sample = np.random.binomial(n, p, sample_size)\n",
    "\n",
    "# Plotting the histogram of the results\n",
    "plt.figure(figsize=(10, 6))\n",
    "plt.hist(sample, bins=np.arange(0, n+2) - 0.5, edgecolor='black', density=True)\n",
    "plt.title(f'Histogram of Binomial Distribution (n={n}, p={p}, sample size={sample_size})')\n",
    "plt.xlabel('Number of Successes')\n",
    "plt.ylabel('Probability')\n",
    "plt.xticks(np.arange(0, n+1))\n",
    "plt.grid(True)\n",
    "plt.show()\n"
   ]
  },
  {
   "cell_type": "code",
   "execution_count": 6,
   "id": "57e13cd3",
   "metadata": {},
   "outputs": [
    {
     "name": "stdout",
     "output_type": "stream",
     "text": [
      "The CDF value at k = 5 is 0.9161\n"
     ]
    }
   ],
   "source": [
    "#6...\n",
    "import math\n",
    "\n",
    "def poisson_cdf(k, mean):\n",
    "    \"\"\"Calculate the CDF of a Poisson distribution at a given point.\n",
    "\n",
    "    Args:\n",
    "        k (int): The point at which to evaluate the CDF (non-negative integer).\n",
    "        mean (float): The mean (λ) of the Poisson distribution.\n",
    "\n",
    "    Returns:\n",
    "        float: The cumulative probability P(X ≤ k).\n",
    "    \"\"\"\n",
    "    # Initialize the cumulative probability\n",
    "    cumulative_prob = 0.0\n",
    "    \n",
    "    # Sum the probabilities from 0 to k\n",
    "    for i in range(0, k + 1):\n",
    "        prob = (math.exp(-mean) * mean**i) / math.factorial(i)\n",
    "        cumulative_prob += prob\n",
    "    \n",
    "    return cumulative_prob\n",
    "\n",
    "# Example usage:\n",
    "mean = 3  # Mean (λ) of the Poisson distribution\n",
    "k = 5  # Point at which to evaluate the CDF\n",
    "\n",
    "cdf_value = poisson_cdf(k, mean)\n",
    "print(f\"The CDF value at k = {k} is {cdf_value:.4f}\")\n"
   ]
  },
  {
   "cell_type": "code",
   "execution_count": 7,
   "id": "68415fc1",
   "metadata": {},
   "outputs": [
    {
     "data": {
      "text/plain": [
       "'Binomial Distribution is used when dealing with a fixed number of independent trials with two outcomes (success or failure), focusing on the number of successes.\\nPoisson Distribution is used to model the number of events happening in a fixed interval, where the events occur independently and at a constant average rate.\\nThe Poisson distribution can be seen as a limit case of the binomial distribution when the number of trials is large and the probability of success is small.'"
      ]
     },
     "execution_count": 7,
     "metadata": {},
     "output_type": "execute_result"
    }
   ],
   "source": [
    "#7...\n",
    "\"\"\"Binomial Distribution is used when dealing with a fixed number of independent trials with two outcomes (success or failure), focusing on the number of successes.\n",
    "Poisson Distribution is used to model the number of events happening in a fixed interval, where the events occur independently and at a constant average rate.\n",
    "The Poisson distribution can be seen as a limit case of the binomial distribution when the number of trials is large and the probability of success is small.\"\"\""
   ]
  },
  {
   "cell_type": "code",
   "execution_count": 8,
   "id": "9a846742",
   "metadata": {},
   "outputs": [
    {
     "name": "stdout",
     "output_type": "stream",
     "text": [
      "Sample Mean: 5.054\n",
      "Sample Variance: 4.457084000000001\n"
     ]
    }
   ],
   "source": [
    "#8...\n",
    "import numpy as np\n",
    "\n",
    "# Set the parameters\n",
    "mean = 5\n",
    "sample_size = 1000\n",
    "\n",
    "# Generate the sample\n",
    "sample = np.random.poisson(lam=mean, size=sample_size)\n",
    "\n",
    "# Calculate the sample mean and variance\n",
    "sample_mean = np.mean(sample)\n",
    "sample_variance = np.var(sample)\n",
    "\n",
    "print(f\"Sample Mean: {sample_mean}\")\n",
    "print(f\"Sample Variance: {sample_variance}\")\n"
   ]
  },
  {
   "cell_type": "code",
   "execution_count": 9,
   "id": "39259c52",
   "metadata": {},
   "outputs": [
    {
     "data": {
      "text/plain": [
       "\"In a normal distribution, the least frequent data points appear at the extreme ends of the distribution, farthest from the mean. Here's a breakdown:\\n\\n- **Mean Position**: The mean (or the center) of a normal distribution is where the data is most frequently centered. It is the peak of the bell curve.\\n\\n- **Least Frequent Data**: The data points that are farthest from the mean are the least frequent. In a normal distribution, the probability of observing data points decreases as you move further away from the mean.\\n\\n- **Extreme Ends**: Specifically, the data points in the tails of the distribution (both the left and right extremes) are where the frequency is lowest. These tails extend infinitely in both directions, but practically, they show very low frequencies compared to the central region.\\n\\nIn summary, the least frequent data in a normal distribution appear at the extremes, far from the mean.\""
      ]
     },
     "execution_count": 9,
     "metadata": {},
     "output_type": "execute_result"
    }
   ],
   "source": [
    "#9...\n",
    "\"\"\"In a normal distribution, the least frequent data points appear at the extreme ends of the distribution, farthest from the mean. Here's a breakdown:\n",
    "\n",
    "- **Mean Position**: The mean (or the center) of a normal distribution is where the data is most frequently centered. It is the peak of the bell curve.\n",
    "\n",
    "- **Least Frequent Data**: The data points that are farthest from the mean are the least frequent. In a normal distribution, the probability of observing data points decreases as you move further away from the mean.\n",
    "\n",
    "- **Extreme Ends**: Specifically, the data points in the tails of the distribution (both the left and right extremes) are where the frequency is lowest. These tails extend infinitely in both directions, but practically, they show very low frequencies compared to the central region.\n",
    "\n",
    "In summary, the least frequent data in a normal distribution appear at the extremes, far from the mean.\"\"\""
   ]
  },
  {
   "cell_type": "code",
   "execution_count": null,
   "id": "3f4bb86a",
   "metadata": {},
   "outputs": [],
   "source": []
  }
 ],
 "metadata": {
  "kernelspec": {
   "display_name": "Python 3 (ipykernel)",
   "language": "python",
   "name": "python3"
  },
  "language_info": {
   "codemirror_mode": {
    "name": "ipython",
    "version": 3
   },
   "file_extension": ".py",
   "mimetype": "text/x-python",
   "name": "python",
   "nbconvert_exporter": "python",
   "pygments_lexer": "ipython3",
   "version": "3.10.9"
  }
 },
 "nbformat": 4,
 "nbformat_minor": 5
}
