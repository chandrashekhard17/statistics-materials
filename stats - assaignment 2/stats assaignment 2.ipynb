{
 "cells": [
  {
   "cell_type": "code",
   "execution_count": 2,
   "id": "b30d31b6",
   "metadata": {},
   "outputs": [
    {
     "data": {
      "text/plain": [
       "'Mean , Median ,  and Mode'"
      ]
     },
     "execution_count": 2,
     "metadata": {},
     "output_type": "execute_result"
    }
   ],
   "source": [
    "#1...\n",
    "\"\"\"Mean , Median ,  and Mode\"\"\""
   ]
  },
  {
   "cell_type": "code",
   "execution_count": 4,
   "id": "d30b0a32",
   "metadata": {},
   "outputs": [
    {
     "data": {
      "text/plain": [
       "'Mean\\nDefinition: The mean (or average) is the sum of all the values in a dataset divided by the number of values.\\nMean\\n=\\nSum\\xa0of\\xa0all\\xa0data\\xa0points\\nNumber\\xa0of\\xa0data\\xa0points\\nMean= \\nNumber\\xa0of\\xa0data\\xa0points\\nSum\\xa0of\\xa0all\\xa0data\\xa0points\\n\\u200b\\n \\nUsage: The mean is useful when you want a general idea of the average value in a dataset. However, it is sensitive to outliers (extremely high or low values), which can skew the mean away from the typical value of the data.'"
      ]
     },
     "execution_count": 4,
     "metadata": {},
     "output_type": "execute_result"
    }
   ],
   "source": [
    "#2...\n",
    "\"\"\"Mean\n",
    "Definition: The mean (or average) is the sum of all the values in a dataset divided by the number of values.\n",
    "Mean\n",
    "=\n",
    "Sum of all data points\n",
    "Number of data points\n",
    "Mean= \n",
    "Number of data points/Sum of all data points\n",
    "\n",
    "​\n",
    " \n",
    "Usage: The mean is useful when you want a general idea of the average value in a dataset. However, it is sensitive to outliers (extremely high or low values), which can skew the mean away from the typical value of the data.\"\"\""
   ]
  },
  {
   "cell_type": "code",
   "execution_count": 6,
   "id": "d51b8217",
   "metadata": {},
   "outputs": [
    {
     "data": {
      "text/plain": [
       "'Median\\nDefinition: The median is the middle value of a dataset when the numbers are arranged in ascending or descending order. If there is an even number of observations, the median is the average of the two middle numbers.'"
      ]
     },
     "execution_count": 6,
     "metadata": {},
     "output_type": "execute_result"
    }
   ],
   "source": [
    "\"\"\"Median\n",
    "Definition: The median is the middle value of a dataset when the numbers are arranged in ascending or descending order. If there is an even number of observations, the median is the average of the two middle numbers.\"\"\""
   ]
  },
  {
   "cell_type": "code",
   "execution_count": 7,
   "id": "a41dee3b",
   "metadata": {},
   "outputs": [
    {
     "data": {
      "text/plain": [
       "'Mode\\nDefinition: The mode is the value that appears most frequently in a dataset. A dataset can have one mode, more than one mode (bimodal, multimodal), or no mode at all if all values are unique.'"
      ]
     },
     "execution_count": 7,
     "metadata": {},
     "output_type": "execute_result"
    }
   ],
   "source": [
    "\"\"\"Mode\n",
    "Definition: The mode is the value that appears most frequently in a dataset. A dataset can have one mode, more than one mode (bimodal, multimodal), or no mode at all if all values are unique.\"\"\""
   ]
  },
  {
   "cell_type": "code",
   "execution_count": 11,
   "id": "ec729fda",
   "metadata": {},
   "outputs": [
    {
     "name": "stderr",
     "output_type": "stream",
     "text": [
      "C:\\Users\\chand\\AppData\\Local\\Temp\\ipykernel_5404\\3719149156.py:7: FutureWarning: Unlike other reduction functions (e.g. `skew`, `kurtosis`), the default behavior of `mode` typically preserves the axis it acts along. In SciPy 1.11.0, this behavior will change: the default value of `keepdims` will become False, the `axis` over which the statistic is taken will be eliminated, and the value None will no longer be accepted. Set `keepdims` to True or False to avoid this warning.\n",
      "  mode=stats.mode(height)\n"
     ]
    }
   ],
   "source": [
    "#3...\n",
    "height= [178,177,176,177,178.2,178,175,179,180,175,178.9,176.2,177,172.5,178,176.5]\n",
    "import numpy as np\n",
    "from scipy import stats\n",
    "mean=np.mean(height)\n",
    "median=np.median(height)\n",
    "mode=stats.mode(height)"
   ]
  },
  {
   "cell_type": "code",
   "execution_count": 12,
   "id": "a2da480d",
   "metadata": {},
   "outputs": [
    {
     "data": {
      "text/plain": [
       "177.01875"
      ]
     },
     "execution_count": 12,
     "metadata": {},
     "output_type": "execute_result"
    }
   ],
   "source": [
    "mean"
   ]
  },
  {
   "cell_type": "code",
   "execution_count": 13,
   "id": "58d3a383",
   "metadata": {},
   "outputs": [
    {
     "data": {
      "text/plain": [
       "177.0"
      ]
     },
     "execution_count": 13,
     "metadata": {},
     "output_type": "execute_result"
    }
   ],
   "source": [
    "median"
   ]
  },
  {
   "cell_type": "code",
   "execution_count": 14,
   "id": "16e79e37",
   "metadata": {},
   "outputs": [
    {
     "data": {
      "text/plain": [
       "ModeResult(mode=array([177.]), count=array([3]))"
      ]
     },
     "execution_count": 14,
     "metadata": {},
     "output_type": "execute_result"
    }
   ],
   "source": [
    "mode"
   ]
  },
  {
   "cell_type": "code",
   "execution_count": 15,
   "id": "8cce4c99",
   "metadata": {},
   "outputs": [
    {
     "data": {
      "text/plain": [
       "1.7885814036548633"
      ]
     },
     "execution_count": 15,
     "metadata": {},
     "output_type": "execute_result"
    }
   ],
   "source": [
    "#4....\n",
    "import numpy as np\n",
    "data=[178,177,176,177,178.2,178,175,179,180,175,178.9,176.2,177,172.5,178,176.5]\n",
    "np.std(data)"
   ]
  },
  {
   "cell_type": "code",
   "execution_count": 16,
   "id": "5283e428",
   "metadata": {},
   "outputs": [
    {
     "data": {
      "text/plain": [
       "'Imagine you’re analyzing the test scores of two classes:\\n\\nClass A Scores: \\n60\\n,\\n62\\n,\\n65\\n,\\n70\\n,\\n75\\n60,62,65,70,75\\nClass B Scores: \\n50\\n,\\n55\\n,\\n65\\n,\\n75\\n,\\n90\\n50,55,65,75,90\\nCentral Tendency: Both classes might have similar mean scores, but the spread is different:\\n\\nRange: Class A has a range of \\n75\\n−\\n60\\n=\\n15\\n75−60=15, while Class B has a range of \\n90\\n−\\n50\\n=\\n40\\n90−50=40.\\nVariance: Class B’s variance will be larger because the scores are more spread out.\\nStandard Deviation: Class B will have a higher standard deviation, reflecting the greater variability in test scores.'"
      ]
     },
     "execution_count": 16,
     "metadata": {},
     "output_type": "execute_result"
    }
   ],
   "source": [
    "#5....\n",
    "\"\"\"Imagine you’re analyzing the test scores of two classes:\n",
    "\n",
    "Class A Scores: \n",
    "60\n",
    ",\n",
    "62\n",
    ",\n",
    "65\n",
    ",\n",
    "70\n",
    ",\n",
    "75\n",
    "60,62,65,70,75\n",
    "Class B Scores: \n",
    "50\n",
    ",\n",
    "55\n",
    ",\n",
    "65\n",
    ",\n",
    "75\n",
    ",\n",
    "90\n",
    "50,55,65,75,90\n",
    "Central Tendency: Both classes might have similar mean scores, but the spread is different:\n",
    "\n",
    "Range: Class A has a range of \n",
    "75\n",
    "−\n",
    "60\n",
    "=\n",
    "15\n",
    "75−60=15, while Class B has a range of \n",
    "90\n",
    "−\n",
    "50\n",
    "=\n",
    "40\n",
    "90−50=40.\n",
    "Variance: Class B’s variance will be larger because the scores are more spread out.\n",
    "Standard Deviation: Class B will have a higher standard deviation, reflecting the greater variability in test scores.\"\"\""
   ]
  },
  {
   "cell_type": "code",
   "execution_count": 18,
   "id": "9f5cef9e",
   "metadata": {},
   "outputs": [
    {
     "data": {
      "text/plain": [
       "'it is a pictorical representation of sets how they are arranged in an efficient manner'"
      ]
     },
     "execution_count": 18,
     "metadata": {},
     "output_type": "execute_result"
    }
   ],
   "source": [
    "#6...\n",
    "\"\"\"it is a pictorical representation of sets how they are arranged in an efficient manner\"\"\""
   ]
  },
  {
   "cell_type": "code",
   "execution_count": 19,
   "id": "60781894",
   "metadata": {},
   "outputs": [
    {
     "data": {
      "text/plain": [
       "'* skewness will give the smoothening of the data\\n   * no skewness will be balanced in both boxplot and equation is q3-q2~q2-q1\\n   * left skewness will give negetive covariance\\n   * right skewness will give positive covariance'"
      ]
     },
     "execution_count": 19,
     "metadata": {},
     "output_type": "execute_result"
    }
   ],
   "source": [
    "#8...\n",
    "\"\"\"* skewness will give the smoothening of the data\n",
    "   * no skewness will be balanced in both boxplot and equation is q3-q2~q2-q1\n",
    "   * left skewness will give negetive covariance\n",
    "   * right skewness will give positive covariance\"\"\""
   ]
  },
  {
   "cell_type": "code",
   "execution_count": 21,
   "id": "8d794f4e",
   "metadata": {},
   "outputs": [
    {
     "data": {
      "text/plain": [
       "' If a data is right skewed then median will be less than the mean'"
      ]
     },
     "execution_count": 21,
     "metadata": {},
     "output_type": "execute_result"
    }
   ],
   "source": [
    "#9...\n",
    "\" If a data is right skewed then median will be less than the mean\""
   ]
  },
  {
   "cell_type": "code",
   "execution_count": 22,
   "id": "2dc0728d",
   "metadata": {},
   "outputs": [
    {
     "data": {
      "text/plain": [
       "\"Covariance measures the directional relationship between two variables but is influenced by the scale of the data.\\nCorrelation standardizes this measure, making it easier to interpret and compare across different datasets. It's particularly useful when you need to understand the strength and direction of a linear relationship.\""
      ]
     },
     "execution_count": 22,
     "metadata": {},
     "output_type": "execute_result"
    }
   ],
   "source": [
    "#10...\n",
    "\"\"\"Covariance measures the directional relationship between two variables but is influenced by the scale of the data.\n",
    "Correlation standardizes this measure, making it easier to interpret and compare across different datasets. It's particularly useful when you need to understand the strength and direction of a linear relationship.\"\"\""
   ]
  },
  {
   "cell_type": "code",
   "execution_count": 23,
   "id": "cc9c7eb8",
   "metadata": {},
   "outputs": [
    {
     "data": {
      "text/plain": [
       "\"### **Formula for Calculating the Sample Mean**\\n\\nThe sample mean is calculated by summing all the observations in a sample and then dividing by the number of observations in the sample. The formula is:\\n\\n\\\\[\\n\\x08ar{X} = \\x0crac{\\\\sum_{i=1}^{n} X_i}{n}\\n\\\\]\\n\\nWhere:\\n- \\\\(\\x08ar{X}\\\\) is the sample mean.\\n- \\\\(X_i\\\\) represents each individual observation in the sample.\\n- \\\\(n\\\\) is the number of observations in the sample.\\n\\n### **Example Calculation**\\n\\nLet's say we have the following dataset representing the ages of a group of 5 people:\\n\\n\\\\[\\n\\text{Ages} = [22, 24, 25, 23, 26]\\n\\\\]\\n\\n#### **Steps to Calculate the Sample Mean**:\\n\\n1. **Sum the Observations**:\\n   \\\\[\\n   \\\\sum_{i=1}^{5} X_i = 22 + 24 + 25 + 23 + 26 = 120\\n   \\\\]\\n\\n2. **Count the Number of Observations**:\\n   \\\\[\\n   n = 5\\n   \\\\]\\n\\n3. **Divide the Sum by the Number of Observations**:\\n   \\\\[\\n   \\x08ar{X} = \\x0crac{120}{5} = 24\\n   \\\\]\\n\\n### **Result**:\\nThe sample mean of the dataset is **24**. This means that the average age of the group is 24 years.\""
      ]
     },
     "execution_count": 23,
     "metadata": {},
     "output_type": "execute_result"
    }
   ],
   "source": [
    "#11...\n",
    "\"\"\"### **Formula for Calculating the Sample Mean**\n",
    "\n",
    "The sample mean is calculated by summing all the observations in a sample and then dividing by the number of observations in the sample. The formula is:\n",
    "\n",
    "\\[\n",
    "\\bar{X} = \\frac{\\sum_{i=1}^{n} X_i}{n}\n",
    "\\]\n",
    "\n",
    "Where:\n",
    "- \\(\\bar{X}\\) is the sample mean.\n",
    "- \\(X_i\\) represents each individual observation in the sample.\n",
    "- \\(n\\) is the number of observations in the sample.\n",
    "\n",
    "### **Example Calculation**\n",
    "\n",
    "Let's say we have the following dataset representing the ages of a group of 5 people:\n",
    "\n",
    "\\[\n",
    "\\text{Ages} = [22, 24, 25, 23, 26]\n",
    "\\]\n",
    "\n",
    "#### **Steps to Calculate the Sample Mean**:\n",
    "\n",
    "1. **Sum the Observations**:\n",
    "   \\[\n",
    "   \\sum_{i=1}^{5} X_i = 22 + 24 + 25 + 23 + 26 = 120\n",
    "   \\]\n",
    "\n",
    "2. **Count the Number of Observations**:\n",
    "   \\[\n",
    "   n = 5\n",
    "   \\]\n",
    "\n",
    "3. **Divide the Sum by the Number of Observations**:\n",
    "   \\[\n",
    "   \\bar{X} = \\frac{120}{5} = 24\n",
    "   \\]\n",
    "\n",
    "### **Result**:\n",
    "The sample mean of the dataset is **24**. This means that the average age of the group is 24 years.\"\"\""
   ]
  },
  {
   "cell_type": "code",
   "execution_count": 24,
   "id": "0ffc233f",
   "metadata": {},
   "outputs": [
    {
     "data": {
      "text/plain": [
       "'Suppose you have the following data set representing the scores of a class on a test: 55, 57, 56, 54, 58, 100.\\n\\nMean: (55 + 57 + 56 + 54 + 58 + 100) / 6 = 63.33\\nWithout the outlier (100), the mean would be (55 + 57 + 56 + 54 + 58) / 5 = 56.\\nMedian: When ordered (54, 55, 56, 57, 58, 100), the median is (56 + 57) / 2 = 56.5.\\nWithout the outlier, the median of (54, 55, 56, 57, 58) is 56.\\nRange: 100 - 54 = 46.\\nWithout the outlier, the range of (54, 55, 56, 57, 58) is 4.\\nStandard Deviation: The standard deviation with the outlier is much higher than without it because the large deviation (100) from the mean increases the overall spread of the data.'"
      ]
     },
     "execution_count": 24,
     "metadata": {},
     "output_type": "execute_result"
    }
   ],
   "source": [
    "#14...\n",
    "\"\"\"Suppose you have the following data set representing the scores of a class on a test: 55, 57, 56, 54, 58, 100.\n",
    "\n",
    "Mean: (55 + 57 + 56 + 54 + 58 + 100) / 6 = 63.33\n",
    "Without the outlier (100), the mean would be (55 + 57 + 56 + 54 + 58) / 5 = 56.\n",
    "Median: When ordered (54, 55, 56, 57, 58, 100), the median is (56 + 57) / 2 = 56.5.\n",
    "Without the outlier, the median of (54, 55, 56, 57, 58) is 56.\n",
    "Range: 100 - 54 = 46.\n",
    "Without the outlier, the range of (54, 55, 56, 57, 58) is 4.\n",
    "Standard Deviation: The standard deviation with the outlier is much higher than without it because the large deviation (100) from the mean increases the overall spread of the data.\"\"\""
   ]
  },
  {
   "cell_type": "code",
   "execution_count": null,
   "id": "a6c7d4cd",
   "metadata": {},
   "outputs": [],
   "source": []
  }
 ],
 "metadata": {
  "kernelspec": {
   "display_name": "Python 3 (ipykernel)",
   "language": "python",
   "name": "python3"
  },
  "language_info": {
   "codemirror_mode": {
    "name": "ipython",
    "version": 3
   },
   "file_extension": ".py",
   "mimetype": "text/x-python",
   "name": "python",
   "nbconvert_exporter": "python",
   "pygments_lexer": "ipython3",
   "version": "3.10.9"
  }
 },
 "nbformat": 4,
 "nbformat_minor": 5
}
