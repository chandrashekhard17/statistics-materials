{
 "cells": [
  {
   "cell_type": "code",
   "execution_count": 1,
   "id": "3048292e",
   "metadata": {},
   "outputs": [
    {
     "data": {
      "text/plain": [
       "'statistics is the science of organising analysing and summerising the data'"
      ]
     },
     "execution_count": 1,
     "metadata": {},
     "output_type": "execute_result"
    }
   ],
   "source": [
    "#1...\n",
    "\"\"\"statistics is the science of organising analysing and summerising the data\"\"\""
   ]
  },
  {
   "cell_type": "code",
   "execution_count": 2,
   "id": "3a9da59b",
   "metadata": {},
   "outputs": [
    {
     "data": {
      "text/plain": [
       "'2.inferential statistics'"
      ]
     },
     "execution_count": 2,
     "metadata": {},
     "output_type": "execute_result"
    }
   ],
   "source": [
    "#2...\n",
    "\"different types of statistics\"\n",
    "\"1.descriptive statistics\"\n",
    "\"2.inferential statistics\""
   ]
  },
  {
   "cell_type": "code",
   "execution_count": 3,
   "id": "4bdbdfea",
   "metadata": {},
   "outputs": [
    {
     "data": {
      "text/plain": [
       "'2..example:we would like to give the result innerscence that by z test t test hypothesis testing'"
      ]
     },
     "execution_count": 3,
     "metadata": {},
     "output_type": "execute_result"
    }
   ],
   "source": [
    "\"1..example:we would like to calculate the mean median mode and variance and sd\"\n",
    "\"2..example:we would like to give the result innerscence that by z test t test hypothesis testing\""
   ]
  },
  {
   "cell_type": "code",
   "execution_count": 4,
   "id": "bb156750",
   "metadata": {},
   "outputs": [
    {
     "data": {
      "text/plain": [
       "'1.quantitative or numerical data\\n      *continuous data \\n      *discreate data'"
      ]
     },
     "execution_count": 4,
     "metadata": {},
     "output_type": "execute_result"
    }
   ],
   "source": [
    "#3...\n",
    "\"\"\"1.quantitative or numerical data\n",
    "      *continuous data \n",
    "      *discreate data\"\"\""
   ]
  },
  {
   "cell_type": "code",
   "execution_count": 5,
   "id": "a31c52c9",
   "metadata": {},
   "outputs": [
    {
     "data": {
      "text/plain": [
       "'2.qualitative of catergorical data\\n      *nominal data\\n      *ordinal data'"
      ]
     },
     "execution_count": 5,
     "metadata": {},
     "output_type": "execute_result"
    }
   ],
   "source": [
    "\"\"\"2.qualitative of catergorical data\n",
    "      *nominal data\n",
    "      *ordinal data\"\"\""
   ]
  },
  {
   "cell_type": "code",
   "execution_count": 6,
   "id": "f2905228",
   "metadata": {},
   "outputs": [
    {
     "data": {
      "text/plain": [
       "'1.ordinal data\\n2. nominal data\\n3. continuous data\\n4. discreate data'"
      ]
     },
     "execution_count": 6,
     "metadata": {},
     "output_type": "execute_result"
    }
   ],
   "source": [
    "#4...\n",
    "\"\"\"1.ordinal data\n",
    "2. nominal data\n",
    "3. continuous data\n",
    "4. discreate data\"\"\""
   ]
  },
  {
   "cell_type": "code",
   "execution_count": 7,
   "id": "d7b7447b",
   "metadata": {},
   "outputs": [
    {
     "data": {
      "text/plain": [
       "\"level of measurements have 4 types there are \\n   1.nominal scale data--it doesn't have any rank value but it's categorical ex: marital status\\n2.ordinal scale data--it' have rank and order matters ex:marks of the students\\n3.interval scale data--its have rank and order also its having difference between of the 2 data exa:grades\\n4.ratio scale data--its having both rank and difference and also order ex:length of the rivers\""
      ]
     },
     "execution_count": 7,
     "metadata": {},
     "output_type": "execute_result"
    }
   ],
   "source": [
    "#5...\n",
    "\"\"\"level of measurements have 4 types there are \n",
    "   1.nominal scale data--it doesn't have any rank value but it's categorical ex: marital status\n",
    "2.ordinal scale data--it' have rank and order matters ex:marks of the students\n",
    "3.interval scale data--its have rank and order also its having difference between of the 2 data exa:grades\n",
    "4.ratio scale data--its having both rank and difference and also order ex:length of the rivers\"\"\""
   ]
  },
  {
   "cell_type": "code",
   "execution_count": 8,
   "id": "e3eec7b7",
   "metadata": {},
   "outputs": [
    {
     "data": {
      "text/plain": [
       "'Understanding the level of measurement when analyzing data is crucial because it determines the types of statistical analyses that are appropriate and meaningful for the data. Different levels of measurement—nominal, ordinal, interval, and ratio—have distinct characteristics and allow for different types of operations and comparisons. Here’s a brief overview of each level:\\n\\nNominal: Categorizes data without any order. Examples include gender, race, or the presence/absence of a trait. Operations like counting and mode are applicable.\\nOrdinal: Categorizes data with a meaningful order but without consistent differences between categories. Examples include ranks (first, second, third) or levels of satisfaction (satisfied, neutral, dissatisfied). Median and rank-order correlation are relevant.\\nInterval: Measures data with meaningful intervals between values but no true zero point. Examples include temperature in Celsius or Fahrenheit. Operations like addition and subtraction are valid, as well as mean and standard deviation.\\nRatio: Measures data with a true zero point, allowing for all arithmetic operations. Examples include weight, height, and age. In addition to mean and standard deviation, ratios and proportions are meaningful.'"
      ]
     },
     "execution_count": 8,
     "metadata": {},
     "output_type": "execute_result"
    }
   ],
   "source": [
    "#6...\n",
    "\"\"\"Understanding the level of measurement when analyzing data is crucial because it determines the types of statistical analyses that are appropriate and meaningful for the data. Different levels of measurement—nominal, ordinal, interval, and ratio—have distinct characteristics and allow for different types of operations and comparisons. Here’s a brief overview of each level:\n",
    "\n",
    "Nominal: Categorizes data without any order. Examples include gender, race, or the presence/absence of a trait. Operations like counting and mode are applicable.\n",
    "Ordinal: Categorizes data with a meaningful order but without consistent differences between categories. Examples include ranks (first, second, third) or levels of satisfaction (satisfied, neutral, dissatisfied). Median and rank-order correlation are relevant.\n",
    "Interval: Measures data with meaningful intervals between values but no true zero point. Examples include temperature in Celsius or Fahrenheit. Operations like addition and subtraction are valid, as well as mean and standard deviation.\n",
    "Ratio: Measures data with a true zero point, allowing for all arithmetic operations. Examples include weight, height, and age. In addition to mean and standard deviation, ratios and proportions are meaningful.\"\"\""
   ]
  },
  {
   "cell_type": "code",
   "execution_count": 9,
   "id": "daa389c5",
   "metadata": {},
   "outputs": [
    {
     "data": {
      "text/plain": [
       "'nominal does not contain any rank and order\\n    but\\n   ordinal does contain both rank and order'"
      ]
     },
     "execution_count": 9,
     "metadata": {},
     "output_type": "execute_result"
    }
   ],
   "source": [
    "#6...\n",
    "\"\"\"nominal does not contain any rank and order\n",
    "    but\n",
    "   ordinal does contain both rank and order\"\"\""
   ]
  },
  {
   "cell_type": "code",
   "execution_count": 10,
   "id": "368ed94f",
   "metadata": {},
   "outputs": [
    {
     "data": {
      "text/plain": [
       "'1.box plot\\n   2.range plot\\n   3.violin plot'"
      ]
     },
     "execution_count": 10,
     "metadata": {},
     "output_type": "execute_result"
    }
   ],
   "source": [
    "#7...\n",
    "\"\"\"1.box plot\n",
    "   2.range plot\n",
    "   3.violin plot\"\"\""
   ]
  },
  {
   "cell_type": "code",
   "execution_count": null,
   "id": "4405f9d2",
   "metadata": {},
   "outputs": [],
   "source": []
  }
 ],
 "metadata": {
  "kernelspec": {
   "display_name": "Python 3 (ipykernel)",
   "language": "python",
   "name": "python3"
  },
  "language_info": {
   "codemirror_mode": {
    "name": "ipython",
    "version": 3
   },
   "file_extension": ".py",
   "mimetype": "text/x-python",
   "name": "python",
   "nbconvert_exporter": "python",
   "pygments_lexer": "ipython3",
   "version": "3.10.9"
  }
 },
 "nbformat": 4,
 "nbformat_minor": 5
}
